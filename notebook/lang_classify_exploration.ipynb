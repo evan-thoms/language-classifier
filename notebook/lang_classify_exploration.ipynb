{
 "cells": [
  {
   "cell_type": "code",
   "execution_count": 420,
   "id": "20fc8eeb-5676-4df1-b26a-be01b303c433",
   "metadata": {},
   "outputs": [
    {
     "name": "stderr",
     "output_type": "stream",
     "text": [
      "[nltk_data] Downloading package punkt to /Users/evanthoms/nltk_data...\n",
      "[nltk_data]   Package punkt is already up-to-date!\n"
     ]
    },
    {
     "data": {
      "text/plain": [
       "True"
      ]
     },
     "execution_count": 420,
     "metadata": {},
     "output_type": "execute_result"
    }
   ],
   "source": [
    "import torch\n",
    "import torch.nn as nn\n",
    "import torch.optim as optim\n",
    "from torch.utils.data import TensorDataset, DataLoader\n",
    "import random\n",
    "import numpy as np\n",
    "import wikipedia\n",
    "import re\n",
    "import nltk\n",
    "from nltk.tokenize import sent_tokenize\n",
    "wikipedia.WIKIPEDIA_API_URL = \"https://en.wikipedia.org/w/api.php\"\n",
    "random.seed(42)\n",
    "np.random.seed(42)\n",
    "torch.manual_seed(42)\n",
    "import json\n",
    "nltk.download('punkt')"
   ]
  },
  {
   "cell_type": "code",
   "execution_count": 425,
   "id": "cab3c519-1b04-4d29-9774-4c009e7c13a8",
   "metadata": {},
   "outputs": [
    {
     "name": "stderr",
     "output_type": "stream",
     "text": [
      "[nltk_data] Downloading package punkt to /Users/evanthoms/nltk_data...\n",
      "[nltk_data]   Package punkt is already up-to-date!\n"
     ]
    },
    {
     "ename": "LookupError",
     "evalue": "\n**********************************************************************\n  Resource \u001b[93mpunkt_tab\u001b[0m not found.\n  Please use the NLTK Downloader to obtain the resource:\n\n  \u001b[31m>>> import nltk\n  >>> nltk.download('punkt_tab')\n  \u001b[0m\n  For more information see: https://www.nltk.org/data.html\n\n  Attempted to load \u001b[93mtokenizers/punkt_tab/english/\u001b[0m\n\n  Searched in:\n    - '/tmp/nltk_data'\n**********************************************************************\n",
     "output_type": "error",
     "traceback": [
      "\u001b[31m---------------------------------------------------------------------------\u001b[39m",
      "\u001b[31mLookupError\u001b[39m                               Traceback (most recent call last)",
      "\u001b[36mCell\u001b[39m\u001b[36m \u001b[39m\u001b[32mIn[425]\u001b[39m\u001b[32m, line 6\u001b[39m\n\u001b[32m      3\u001b[39m \u001b[38;5;28;01mfrom\u001b[39;00m\u001b[38;5;250m \u001b[39m\u001b[34;01mnltk\u001b[39;00m\u001b[34;01m.\u001b[39;00m\u001b[34;01mtokenize\u001b[39;00m\u001b[38;5;250m \u001b[39m\u001b[38;5;28;01mimport\u001b[39;00m sent_tokenize\n\u001b[32m      5\u001b[39m text = \u001b[33m\"\u001b[39m\u001b[33mHello. This is a test.\u001b[39m\u001b[33m\"\u001b[39m\n\u001b[32m----> \u001b[39m\u001b[32m6\u001b[39m \u001b[38;5;28mprint\u001b[39m(\u001b[43msent_tokenize\u001b[49m\u001b[43m(\u001b[49m\u001b[43mtext\u001b[49m\u001b[43m,\u001b[49m\u001b[43m \u001b[49m\u001b[43mlanguage\u001b[49m\u001b[43m=\u001b[49m\u001b[33;43m'\u001b[39;49m\u001b[33;43menglish\u001b[39;49m\u001b[33;43m'\u001b[39;49m\u001b[43m)\u001b[49m)\n",
      "\u001b[36mFile \u001b[39m\u001b[32m~/Coding/2025/venv/lib/python3.12/site-packages/nltk/tokenize/__init__.py:119\u001b[39m, in \u001b[36msent_tokenize\u001b[39m\u001b[34m(text, language)\u001b[39m\n\u001b[32m    109\u001b[39m \u001b[38;5;28;01mdef\u001b[39;00m\u001b[38;5;250m \u001b[39m\u001b[34msent_tokenize\u001b[39m(text, language=\u001b[33m\"\u001b[39m\u001b[33menglish\u001b[39m\u001b[33m\"\u001b[39m):\n\u001b[32m    110\u001b[39m \u001b[38;5;250m    \u001b[39m\u001b[33;03m\"\"\"\u001b[39;00m\n\u001b[32m    111\u001b[39m \u001b[33;03m    Return a sentence-tokenized copy of *text*,\u001b[39;00m\n\u001b[32m    112\u001b[39m \u001b[33;03m    using NLTK's recommended sentence tokenizer\u001b[39;00m\n\u001b[32m   (...)\u001b[39m\u001b[32m    117\u001b[39m \u001b[33;03m    :param language: the model name in the Punkt corpus\u001b[39;00m\n\u001b[32m    118\u001b[39m \u001b[33;03m    \"\"\"\u001b[39;00m\n\u001b[32m--> \u001b[39m\u001b[32m119\u001b[39m     tokenizer = \u001b[43m_get_punkt_tokenizer\u001b[49m\u001b[43m(\u001b[49m\u001b[43mlanguage\u001b[49m\u001b[43m)\u001b[49m\n\u001b[32m    120\u001b[39m     \u001b[38;5;28;01mreturn\u001b[39;00m tokenizer.tokenize(text)\n",
      "\u001b[36mFile \u001b[39m\u001b[32m~/Coding/2025/venv/lib/python3.12/site-packages/nltk/tokenize/__init__.py:105\u001b[39m, in \u001b[36m_get_punkt_tokenizer\u001b[39m\u001b[34m(language)\u001b[39m\n\u001b[32m     96\u001b[39m \u001b[38;5;129m@functools\u001b[39m.lru_cache\n\u001b[32m     97\u001b[39m \u001b[38;5;28;01mdef\u001b[39;00m\u001b[38;5;250m \u001b[39m\u001b[34m_get_punkt_tokenizer\u001b[39m(language=\u001b[33m\"\u001b[39m\u001b[33menglish\u001b[39m\u001b[33m\"\u001b[39m):\n\u001b[32m     98\u001b[39m \u001b[38;5;250m    \u001b[39m\u001b[33;03m\"\"\"\u001b[39;00m\n\u001b[32m     99\u001b[39m \u001b[33;03m    A constructor for the PunktTokenizer that utilizes\u001b[39;00m\n\u001b[32m    100\u001b[39m \u001b[33;03m    a lru cache for performance.\u001b[39;00m\n\u001b[32m   (...)\u001b[39m\u001b[32m    103\u001b[39m \u001b[33;03m    :type language: str\u001b[39;00m\n\u001b[32m    104\u001b[39m \u001b[33;03m    \"\"\"\u001b[39;00m\n\u001b[32m--> \u001b[39m\u001b[32m105\u001b[39m     \u001b[38;5;28;01mreturn\u001b[39;00m \u001b[43mPunktTokenizer\u001b[49m\u001b[43m(\u001b[49m\u001b[43mlanguage\u001b[49m\u001b[43m)\u001b[49m\n",
      "\u001b[36mFile \u001b[39m\u001b[32m~/Coding/2025/venv/lib/python3.12/site-packages/nltk/tokenize/punkt.py:1744\u001b[39m, in \u001b[36mPunktTokenizer.__init__\u001b[39m\u001b[34m(self, lang)\u001b[39m\n\u001b[32m   1742\u001b[39m \u001b[38;5;28;01mdef\u001b[39;00m\u001b[38;5;250m \u001b[39m\u001b[34m__init__\u001b[39m(\u001b[38;5;28mself\u001b[39m, lang=\u001b[33m\"\u001b[39m\u001b[33menglish\u001b[39m\u001b[33m\"\u001b[39m):\n\u001b[32m   1743\u001b[39m     PunktSentenceTokenizer.\u001b[34m__init__\u001b[39m(\u001b[38;5;28mself\u001b[39m)\n\u001b[32m-> \u001b[39m\u001b[32m1744\u001b[39m     \u001b[38;5;28;43mself\u001b[39;49m\u001b[43m.\u001b[49m\u001b[43mload_lang\u001b[49m\u001b[43m(\u001b[49m\u001b[43mlang\u001b[49m\u001b[43m)\u001b[49m\n",
      "\u001b[36mFile \u001b[39m\u001b[32m~/Coding/2025/venv/lib/python3.12/site-packages/nltk/tokenize/punkt.py:1749\u001b[39m, in \u001b[36mPunktTokenizer.load_lang\u001b[39m\u001b[34m(self, lang)\u001b[39m\n\u001b[32m   1746\u001b[39m \u001b[38;5;28;01mdef\u001b[39;00m\u001b[38;5;250m \u001b[39m\u001b[34mload_lang\u001b[39m(\u001b[38;5;28mself\u001b[39m, lang=\u001b[33m\"\u001b[39m\u001b[33menglish\u001b[39m\u001b[33m\"\u001b[39m):\n\u001b[32m   1747\u001b[39m     \u001b[38;5;28;01mfrom\u001b[39;00m\u001b[38;5;250m \u001b[39m\u001b[34;01mnltk\u001b[39;00m\u001b[34;01m.\u001b[39;00m\u001b[34;01mdata\u001b[39;00m\u001b[38;5;250m \u001b[39m\u001b[38;5;28;01mimport\u001b[39;00m find\n\u001b[32m-> \u001b[39m\u001b[32m1749\u001b[39m     lang_dir = \u001b[43mfind\u001b[49m\u001b[43m(\u001b[49m\u001b[33;43mf\u001b[39;49m\u001b[33;43m\"\u001b[39;49m\u001b[33;43mtokenizers/punkt_tab/\u001b[39;49m\u001b[38;5;132;43;01m{\u001b[39;49;00m\u001b[43mlang\u001b[49m\u001b[38;5;132;43;01m}\u001b[39;49;00m\u001b[33;43m/\u001b[39;49m\u001b[33;43m\"\u001b[39;49m\u001b[43m)\u001b[49m\n\u001b[32m   1750\u001b[39m     \u001b[38;5;28mself\u001b[39m._params = load_punkt_params(lang_dir)\n\u001b[32m   1751\u001b[39m     \u001b[38;5;28mself\u001b[39m._lang = lang\n",
      "\u001b[36mFile \u001b[39m\u001b[32m~/Coding/2025/venv/lib/python3.12/site-packages/nltk/data.py:579\u001b[39m, in \u001b[36mfind\u001b[39m\u001b[34m(resource_name, paths)\u001b[39m\n\u001b[32m    577\u001b[39m sep = \u001b[33m\"\u001b[39m\u001b[33m*\u001b[39m\u001b[33m\"\u001b[39m * \u001b[32m70\u001b[39m\n\u001b[32m    578\u001b[39m resource_not_found = \u001b[33mf\u001b[39m\u001b[33m\"\u001b[39m\u001b[38;5;130;01m\\n\u001b[39;00m\u001b[38;5;132;01m{\u001b[39;00msep\u001b[38;5;132;01m}\u001b[39;00m\u001b[38;5;130;01m\\n\u001b[39;00m\u001b[38;5;132;01m{\u001b[39;00mmsg\u001b[38;5;132;01m}\u001b[39;00m\u001b[38;5;130;01m\\n\u001b[39;00m\u001b[38;5;132;01m{\u001b[39;00msep\u001b[38;5;132;01m}\u001b[39;00m\u001b[38;5;130;01m\\n\u001b[39;00m\u001b[33m\"\u001b[39m\n\u001b[32m--> \u001b[39m\u001b[32m579\u001b[39m \u001b[38;5;28;01mraise\u001b[39;00m \u001b[38;5;167;01mLookupError\u001b[39;00m(resource_not_found)\n",
      "\u001b[31mLookupError\u001b[39m: \n**********************************************************************\n  Resource \u001b[93mpunkt_tab\u001b[0m not found.\n  Please use the NLTK Downloader to obtain the resource:\n\n  \u001b[31m>>> import nltk\n  >>> nltk.download('punkt_tab')\n  \u001b[0m\n  For more information see: https://www.nltk.org/data.html\n\n  Attempted to load \u001b[93mtokenizers/punkt_tab/english/\u001b[0m\n\n  Searched in:\n    - '/tmp/nltk_data'\n**********************************************************************\n"
     ]
    }
   ],
   "source": [
    "import nltk\n",
    "nltk.download('punkt')\n",
    "from nltk.tokenize import sent_tokenize\n",
    "\n",
    "text = \"Hello. This is a test.\"\n",
    "print(sent_tokenize(text, language='english'))"
   ]
  },
  {
   "cell_type": "code",
   "execution_count": 422,
   "id": "70e9af49-2950-43d2-a4cc-f06215316920",
   "metadata": {},
   "outputs": [
    {
     "ename": "LookupError",
     "evalue": "\n**********************************************************************\n  Resource \u001b[93mpunkt_tab\u001b[0m not found.\n  Please use the NLTK Downloader to obtain the resource:\n\n  \u001b[31m>>> import nltk\n  >>> nltk.download('punkt_tab')\n  \u001b[0m\n  For more information see: https://www.nltk.org/data.html\n\n  Attempted to load \u001b[93mtokenizers/punkt_tab/enlish/\u001b[0m\n\n  Searched in:\n    - '/tmp/nltk_data'\n**********************************************************************\n",
     "output_type": "error",
     "traceback": [
      "\u001b[31m---------------------------------------------------------------------------\u001b[39m",
      "\u001b[31mLookupError\u001b[39m                               Traceback (most recent call last)",
      "\u001b[36mCell\u001b[39m\u001b[36m \u001b[39m\u001b[32mIn[422]\u001b[39m\u001b[32m, line 2\u001b[39m\n\u001b[32m      1\u001b[39m text = \u001b[33m\"\u001b[39m\u001b[33mHere\u001b[39m\u001b[33m'\u001b[39m\u001b[33ms a shorter version. This will give you a data structure with each individual sentence, and each token within the sentence. I prefer the TweetTokenizer for messy, real world language. The sentence tokenizer is considered decent, but be careful not to lower your word case till after this step, as it may impact the accuracy of detecting the boundaries of messy text.\u001b[39m\u001b[33m\"\u001b[39m\n\u001b[32m----> \u001b[39m\u001b[32m2\u001b[39m \u001b[38;5;28mlist\u001b[39m = \u001b[43msent_tokenize\u001b[49m\u001b[43m(\u001b[49m\u001b[43mtext\u001b[49m\u001b[43m,\u001b[49m\u001b[43m \u001b[49m\u001b[43mlanguage\u001b[49m\u001b[43m=\u001b[49m\u001b[33;43m'\u001b[39;49m\u001b[33;43menlish\u001b[39;49m\u001b[33;43m'\u001b[39;49m\u001b[43m)\u001b[49m\n",
      "\u001b[36mFile \u001b[39m\u001b[32m~/Coding/2025/venv/lib/python3.12/site-packages/nltk/tokenize/__init__.py:119\u001b[39m, in \u001b[36msent_tokenize\u001b[39m\u001b[34m(text, language)\u001b[39m\n\u001b[32m    109\u001b[39m \u001b[38;5;28;01mdef\u001b[39;00m\u001b[38;5;250m \u001b[39m\u001b[34msent_tokenize\u001b[39m(text, language=\u001b[33m\"\u001b[39m\u001b[33menglish\u001b[39m\u001b[33m\"\u001b[39m):\n\u001b[32m    110\u001b[39m \u001b[38;5;250m    \u001b[39m\u001b[33;03m\"\"\"\u001b[39;00m\n\u001b[32m    111\u001b[39m \u001b[33;03m    Return a sentence-tokenized copy of *text*,\u001b[39;00m\n\u001b[32m    112\u001b[39m \u001b[33;03m    using NLTK's recommended sentence tokenizer\u001b[39;00m\n\u001b[32m   (...)\u001b[39m\u001b[32m    117\u001b[39m \u001b[33;03m    :param language: the model name in the Punkt corpus\u001b[39;00m\n\u001b[32m    118\u001b[39m \u001b[33;03m    \"\"\"\u001b[39;00m\n\u001b[32m--> \u001b[39m\u001b[32m119\u001b[39m     tokenizer = \u001b[43m_get_punkt_tokenizer\u001b[49m\u001b[43m(\u001b[49m\u001b[43mlanguage\u001b[49m\u001b[43m)\u001b[49m\n\u001b[32m    120\u001b[39m     \u001b[38;5;28;01mreturn\u001b[39;00m tokenizer.tokenize(text)\n",
      "\u001b[36mFile \u001b[39m\u001b[32m~/Coding/2025/venv/lib/python3.12/site-packages/nltk/tokenize/__init__.py:105\u001b[39m, in \u001b[36m_get_punkt_tokenizer\u001b[39m\u001b[34m(language)\u001b[39m\n\u001b[32m     96\u001b[39m \u001b[38;5;129m@functools\u001b[39m.lru_cache\n\u001b[32m     97\u001b[39m \u001b[38;5;28;01mdef\u001b[39;00m\u001b[38;5;250m \u001b[39m\u001b[34m_get_punkt_tokenizer\u001b[39m(language=\u001b[33m\"\u001b[39m\u001b[33menglish\u001b[39m\u001b[33m\"\u001b[39m):\n\u001b[32m     98\u001b[39m \u001b[38;5;250m    \u001b[39m\u001b[33;03m\"\"\"\u001b[39;00m\n\u001b[32m     99\u001b[39m \u001b[33;03m    A constructor for the PunktTokenizer that utilizes\u001b[39;00m\n\u001b[32m    100\u001b[39m \u001b[33;03m    a lru cache for performance.\u001b[39;00m\n\u001b[32m   (...)\u001b[39m\u001b[32m    103\u001b[39m \u001b[33;03m    :type language: str\u001b[39;00m\n\u001b[32m    104\u001b[39m \u001b[33;03m    \"\"\"\u001b[39;00m\n\u001b[32m--> \u001b[39m\u001b[32m105\u001b[39m     \u001b[38;5;28;01mreturn\u001b[39;00m \u001b[43mPunktTokenizer\u001b[49m\u001b[43m(\u001b[49m\u001b[43mlanguage\u001b[49m\u001b[43m)\u001b[49m\n",
      "\u001b[36mFile \u001b[39m\u001b[32m~/Coding/2025/venv/lib/python3.12/site-packages/nltk/tokenize/punkt.py:1744\u001b[39m, in \u001b[36mPunktTokenizer.__init__\u001b[39m\u001b[34m(self, lang)\u001b[39m\n\u001b[32m   1742\u001b[39m \u001b[38;5;28;01mdef\u001b[39;00m\u001b[38;5;250m \u001b[39m\u001b[34m__init__\u001b[39m(\u001b[38;5;28mself\u001b[39m, lang=\u001b[33m\"\u001b[39m\u001b[33menglish\u001b[39m\u001b[33m\"\u001b[39m):\n\u001b[32m   1743\u001b[39m     PunktSentenceTokenizer.\u001b[34m__init__\u001b[39m(\u001b[38;5;28mself\u001b[39m)\n\u001b[32m-> \u001b[39m\u001b[32m1744\u001b[39m     \u001b[38;5;28;43mself\u001b[39;49m\u001b[43m.\u001b[49m\u001b[43mload_lang\u001b[49m\u001b[43m(\u001b[49m\u001b[43mlang\u001b[49m\u001b[43m)\u001b[49m\n",
      "\u001b[36mFile \u001b[39m\u001b[32m~/Coding/2025/venv/lib/python3.12/site-packages/nltk/tokenize/punkt.py:1749\u001b[39m, in \u001b[36mPunktTokenizer.load_lang\u001b[39m\u001b[34m(self, lang)\u001b[39m\n\u001b[32m   1746\u001b[39m \u001b[38;5;28;01mdef\u001b[39;00m\u001b[38;5;250m \u001b[39m\u001b[34mload_lang\u001b[39m(\u001b[38;5;28mself\u001b[39m, lang=\u001b[33m\"\u001b[39m\u001b[33menglish\u001b[39m\u001b[33m\"\u001b[39m):\n\u001b[32m   1747\u001b[39m     \u001b[38;5;28;01mfrom\u001b[39;00m\u001b[38;5;250m \u001b[39m\u001b[34;01mnltk\u001b[39;00m\u001b[34;01m.\u001b[39;00m\u001b[34;01mdata\u001b[39;00m\u001b[38;5;250m \u001b[39m\u001b[38;5;28;01mimport\u001b[39;00m find\n\u001b[32m-> \u001b[39m\u001b[32m1749\u001b[39m     lang_dir = \u001b[43mfind\u001b[49m\u001b[43m(\u001b[49m\u001b[33;43mf\u001b[39;49m\u001b[33;43m\"\u001b[39;49m\u001b[33;43mtokenizers/punkt_tab/\u001b[39;49m\u001b[38;5;132;43;01m{\u001b[39;49;00m\u001b[43mlang\u001b[49m\u001b[38;5;132;43;01m}\u001b[39;49;00m\u001b[33;43m/\u001b[39;49m\u001b[33;43m\"\u001b[39;49m\u001b[43m)\u001b[49m\n\u001b[32m   1750\u001b[39m     \u001b[38;5;28mself\u001b[39m._params = load_punkt_params(lang_dir)\n\u001b[32m   1751\u001b[39m     \u001b[38;5;28mself\u001b[39m._lang = lang\n",
      "\u001b[36mFile \u001b[39m\u001b[32m~/Coding/2025/venv/lib/python3.12/site-packages/nltk/data.py:579\u001b[39m, in \u001b[36mfind\u001b[39m\u001b[34m(resource_name, paths)\u001b[39m\n\u001b[32m    577\u001b[39m sep = \u001b[33m\"\u001b[39m\u001b[33m*\u001b[39m\u001b[33m\"\u001b[39m * \u001b[32m70\u001b[39m\n\u001b[32m    578\u001b[39m resource_not_found = \u001b[33mf\u001b[39m\u001b[33m\"\u001b[39m\u001b[38;5;130;01m\\n\u001b[39;00m\u001b[38;5;132;01m{\u001b[39;00msep\u001b[38;5;132;01m}\u001b[39;00m\u001b[38;5;130;01m\\n\u001b[39;00m\u001b[38;5;132;01m{\u001b[39;00mmsg\u001b[38;5;132;01m}\u001b[39;00m\u001b[38;5;130;01m\\n\u001b[39;00m\u001b[38;5;132;01m{\u001b[39;00msep\u001b[38;5;132;01m}\u001b[39;00m\u001b[38;5;130;01m\\n\u001b[39;00m\u001b[33m\"\u001b[39m\n\u001b[32m--> \u001b[39m\u001b[32m579\u001b[39m \u001b[38;5;28;01mraise\u001b[39;00m \u001b[38;5;167;01mLookupError\u001b[39;00m(resource_not_found)\n",
      "\u001b[31mLookupError\u001b[39m: \n**********************************************************************\n  Resource \u001b[93mpunkt_tab\u001b[0m not found.\n  Please use the NLTK Downloader to obtain the resource:\n\n  \u001b[31m>>> import nltk\n  >>> nltk.download('punkt_tab')\n  \u001b[0m\n  For more information see: https://www.nltk.org/data.html\n\n  Attempted to load \u001b[93mtokenizers/punkt_tab/enlish/\u001b[0m\n\n  Searched in:\n    - '/tmp/nltk_data'\n**********************************************************************\n"
     ]
    }
   ],
   "source": [
    "text = \"Here's a shorter version. This will give you a data structure with each individual sentence, and each token within the sentence. I prefer the TweetTokenizer for messy, real world language. The sentence tokenizer is considered decent, but be careful not to lower your word case till after this step, as it may impact the accuracy of detecting the boundaries of messy text.\"\n",
    "list = sent_tokenize(text, language='enlish')"
   ]
  },
  {
   "cell_type": "code",
   "execution_count": 393,
   "id": "c0e690f7-7b73-46c7-9020-9ca6b6f32e98",
   "metadata": {},
   "outputs": [],
   "source": [
    "!pip freeze > req.txt\n"
   ]
  },
  {
   "cell_type": "code",
   "execution_count": 400,
   "id": "0f895249-aa38-4523-b949-980d282c0752",
   "metadata": {},
   "outputs": [],
   "source": [
    "\n",
    "\n",
    "labels = (\n",
    "    [0] * 30 +  # English = 0\n",
    "    [1] * 30 +  # Spanish = 1  \n",
    "    [2] * 30    # French = 2\n",
    ")\n",
    "words = [\n",
    "    # English (30 words) - label 0\n",
    "    \"hello\", \"world\", \"water\", \"house\", \"book\", \"computer\", \"friend\", \"family\", \n",
    "    \"school\", \"teacher\", \"student\", \"learning\", \"reading\", \"writing\", \"speaking\",\n",
    "    \"English\", \"language\", \"country\", \"people\", \"children\", \"mother\", \"father\",\n",
    "    \"brother\", \"sister\", \"kitchen\", \"bedroom\", \"garden\", \"weather\", \"sunshine\", \"mountain\",\n",
    "    \n",
    "    # Spanish (30 words) - label 1  \n",
    "    \"hola\", \"mundo\", \"agua\", \"casa\", \"libro\", \"computadora\", \"amigo\", \"familia\",\n",
    "    \"escuela\", \"maestro\", \"estudiante\", \"aprendiendo\", \"leyendo\", \"escribiendo\", \"hablando\",\n",
    "    \"español\", \"idioma\", \"país\", \"gente\", \"niños\", \"madre\", \"padre\", \n",
    "    \"hermano\", \"hermana\", \"cocina\", \"dormitorio\", \"jardín\", \"tiempo\", \"sol\", \"montaña\",\n",
    "    \n",
    "    # French (30 words) - label 2\n",
    "    \"bonjour\", \"monde\", \"eau\", \"maison\", \"livre\", \"ordinateur\", \"ami\", \"famille\",\n",
    "    \"école\", \"professeur\", \"étudiant\", \"apprenant\", \"lisant\", \"écrivant\", \"parlant\", \n",
    "    \"français\", \"langue\", \"pays\", \"gens\", \"enfants\", \"mère\", \"père\",\n",
    "    \"frère\", \"soeur\", \"cuisine\", \"chambre\", \"jardin\", \"temps\", \"soleil\", \"montagne\"\n",
    "]"
   ]
  },
  {
   "cell_type": "code",
   "execution_count": 395,
   "id": "67bd3aa5-9cd4-46af-80d0-5e6864a817b8",
   "metadata": {},
   "outputs": [
    {
     "ename": "IndentationError",
     "evalue": "unexpected indent (902151369.py, line 2)",
     "output_type": "error",
     "traceback": [
      "  \u001b[36mCell\u001b[39m\u001b[36m \u001b[39m\u001b[32mIn[395]\u001b[39m\u001b[32m, line 2\u001b[39m\n\u001b[31m    \u001b[39m\u001b[31mif search_results:\u001b[39m\n    ^\n\u001b[31mIndentationError\u001b[39m\u001b[31m:\u001b[39m unexpected indent\n"
     ]
    }
   ],
   "source": [
    "search_results = wikipedia.search(topic, results=1)\n",
    "            if search_results:\n",
    "                actual_title = search_results[0]\n",
    "                print(f\"Using page: '{actual_title}' for topic: '{topic}'\")\n",
    "                page = wikipedia.page(actual_title, auto_suggest=False)"
   ]
  },
  {
   "cell_type": "code",
   "execution_count": 414,
   "id": "757f4354-0098-463e-843e-5d8746f72697",
   "metadata": {},
   "outputs": [
    {
     "data": {
      "text/plain": [
       "'History is the systematic study of the past, focus'"
      ]
     },
     "execution_count": 414,
     "metadata": {},
     "output_type": "execute_result"
    }
   ],
   "source": [
    "wikipedia.page(\"History\", auto_suggest=False).content[:50]"
   ]
  },
  {
   "cell_type": "code",
   "execution_count": 503,
   "id": "9c9db8a5-b13c-45b4-9ec2-6fd8c907a2cb",
   "metadata": {},
   "outputs": [],
   "source": [
    "def clean_sentences(sentence):\n",
    "    sentence = re.sub(r'\\[.*?\\]', '', sentence)\n",
    "    sentence = re.sub(r'\\[.*?\\]', '', sentence)  \n",
    "    sentence = re.sub(r'==.*?==', '', sentence)  \n",
    "    sentence = re.sub(r'^\\d+\\W*$', '', sentence)\n",
    "    return sentence.strip()\n",
    "\n",
    "def get_wikipedia_sentences(language, topics, max_sentences=200):\n",
    "    print(\"Retrieving for language \", language)\n",
    "    wikipedia.set_lang(language)\n",
    "    all_sentences = []\n",
    "    for topic in topics:\n",
    "        for attempt in range(3):\n",
    "            try:\n",
    "                content = wikipedia.page(topic, auto_suggest=False).content\n",
    "                raw_sentences = sent_split(content)\n",
    "                cleaned = [clean_sentences(i) for i in raw_sentences]\n",
    "                all_sentences.extend(cleaned[:max_sentences])\n",
    "                break \n",
    "            except Exception as e:\n",
    "                print(f\"Attempt {attempt+1} failed for topic '{topic}': {e}\")\n",
    "                time.sleep(2)\n",
    "        else:\n",
    "            print(f\"Skipping topic '{topic}' after {3} failed attempts.\")\n",
    "    return all_sentences\n",
    "\n",
    "def sent_split(text):\n",
    "    sentences = re.split(r'[.!?]+', text)\n",
    "    return [s.strip() for s in sentences if len(s) > 3]\n",
    "    \n",
    "def create_ngram_vocab(words, n=4):\n",
    "    \"\"\"Build vocabulary of all possible n-grams from training data\"\"\"\n",
    "    all_ngrams=set()\n",
    "    for word in words:\n",
    "        marked_word = f\"^{word.lower()}$\"\n",
    "        for i in range(len(marked_word)-n+1):\n",
    "            all_ngrams.add(marked_word[i:i+n])\n",
    "    return list(sorted(all_ngrams))\n",
    "\n",
    "def word_to_ngram_features(word, vocab_dict, n=4):\n",
    "    \"\"\"Convert word to n-gram feature vector\"\"\"\n",
    "    features = [0]*len(vocab)\n",
    "    marked_word = f\"^{word.lower()}$\"\n",
    "    for i in range(len(marked_word)-n+1):\n",
    "        ngram = marked_word[i:i+n]\n",
    "        idx = vocab_dict.get(ngram)\n",
    "        if idx is not None:\n",
    "            features[idx] += 1\n",
    "    return features\n",
    "\n",
    "class LanguageClassifier(nn.Module):\n",
    "    def __init__(self, input_size):\n",
    "        super().__init__()\n",
    "        self.layer1 = nn.Linear(input_size, 128)\n",
    "        self.dropout1 = nn.Dropout(0.2)\n",
    "        self.layer2 = nn.Linear(128,64)\n",
    "        self.dropout2 = nn.Dropout(0.2)\n",
    "        self.layer3 = nn.Linear(64,32)\n",
    "        self.dropout3 = nn.Dropout(0.2)\n",
    "        self.layer4 = nn.Linear(32,7)\n",
    "\n",
    "    def forward(self, x):\n",
    "        x = torch.relu(self.layer1(x))\n",
    "        x = self.dropout1(x)\n",
    "        x = torch.relu(self.layer2(x))\n",
    "        x = self.dropout2(x)\n",
    "        x = torch.relu(self.layer3(x))\n",
    "        x = self.dropout3(x)\n",
    "        x = self.layer4(x)\n",
    "        return x\n",
    "        \n",
    "        "
   ]
  },
  {
   "cell_type": "code",
   "execution_count": 518,
   "id": "b7a54d7b-afc7-4970-afe7-738949eb8d7e",
   "metadata": {},
   "outputs": [
    {
     "data": {
      "application/vnd.jupyter.widget-view+json": {
       "model_id": "e122481e9e904ea7b885440029c5e795",
       "version_major": 2,
       "version_minor": 0
      },
      "text/plain": [
       "en-es/dev-00000-of-00001.parquet:   0%|          | 0.00/136k [00:00<?, ?B/s]"
      ]
     },
     "metadata": {},
     "output_type": "display_data"
    },
    {
     "data": {
      "application/vnd.jupyter.widget-view+json": {
       "model_id": "d4963a1cecdf48b18e48d3b6f34a935e",
       "version_major": 2,
       "version_minor": 0
      },
      "text/plain": [
       "en-es/train-00000-of-00001.parquet:   0%|          | 0.00/51.7M [00:00<?, ?B/s]"
      ]
     },
     "metadata": {},
     "output_type": "display_data"
    },
    {
     "data": {
      "application/vnd.jupyter.widget-view+json": {
       "model_id": "49768a6071474dcf98e8803013c6b894",
       "version_major": 2,
       "version_minor": 0
      },
      "text/plain": [
       "Generating dev split:   0%|          | 0/990 [00:00<?, ? examples/s]"
      ]
     },
     "metadata": {},
     "output_type": "display_data"
    },
    {
     "data": {
      "application/vnd.jupyter.widget-view+json": {
       "model_id": "cd735cd5e8174cf396754a5a7293ca8a",
       "version_major": 2,
       "version_minor": 0
      },
      "text/plain": [
       "Generating train split:   0%|          | 0/404981 [00:00<?, ? examples/s]"
      ]
     },
     "metadata": {},
     "output_type": "display_data"
    },
    {
     "data": {
      "application/vnd.jupyter.widget-view+json": {
       "model_id": "02689d799c1741f789c0a1f9bd7511fb",
       "version_major": 2,
       "version_minor": 0
      },
      "text/plain": [
       "en-fr/train-00000-of-00001.parquet:   0%|          | 0.00/52.0M [00:00<?, ?B/s]"
      ]
     },
     "metadata": {},
     "output_type": "display_data"
    },
    {
     "data": {
      "application/vnd.jupyter.widget-view+json": {
       "model_id": "0d93d9c58b1343e098655db3bbec02a9",
       "version_major": 2,
       "version_minor": 0
      },
      "text/plain": [
       "en-fr/dev-00000-of-00001.parquet:   0%|          | 0.00/142k [00:00<?, ?B/s]"
      ]
     },
     "metadata": {},
     "output_type": "display_data"
    },
    {
     "data": {
      "application/vnd.jupyter.widget-view+json": {
       "model_id": "f1b6a38f7b1e40599eb095b5ca00bc9c",
       "version_major": 2,
       "version_minor": 0
      },
      "text/plain": [
       "Generating train split:   0%|          | 0/398870 [00:00<?, ? examples/s]"
      ]
     },
     "metadata": {},
     "output_type": "display_data"
    },
    {
     "data": {
      "application/vnd.jupyter.widget-view+json": {
       "model_id": "bf73d999fdc24f9091105256f82f1933",
       "version_major": 2,
       "version_minor": 0
      },
      "text/plain": [
       "Generating dev split:   0%|          | 0/992 [00:00<?, ? examples/s]"
      ]
     },
     "metadata": {},
     "output_type": "display_data"
    },
    {
     "data": {
      "application/vnd.jupyter.widget-view+json": {
       "model_id": "92c96e5e22db40c79b3eb9b8535ed5f0",
       "version_major": 2,
       "version_minor": 0
      },
      "text/plain": [
       "en-it/dev-00000-of-00001.parquet:   0%|          | 0.00/138k [00:00<?, ?B/s]"
      ]
     },
     "metadata": {},
     "output_type": "display_data"
    },
    {
     "data": {
      "application/vnd.jupyter.widget-view+json": {
       "model_id": "fbe6c8d2542545b1b3a93cc8cc6d9b7b",
       "version_major": 2,
       "version_minor": 0
      },
      "text/plain": [
       "en-it/train-00000-of-00001.parquet:   0%|          | 0.00/46.4M [00:00<?, ?B/s]"
      ]
     },
     "metadata": {},
     "output_type": "display_data"
    },
    {
     "data": {
      "application/vnd.jupyter.widget-view+json": {
       "model_id": "efcfa527a3744f10ac3d79b9b5559b84",
       "version_major": 2,
       "version_minor": 0
      },
      "text/plain": [
       "Generating dev split:   0%|          | 0/993 [00:00<?, ? examples/s]"
      ]
     },
     "metadata": {},
     "output_type": "display_data"
    },
    {
     "data": {
      "application/vnd.jupyter.widget-view+json": {
       "model_id": "6434cd20b3f2436fb8b00861fd0cb0d8",
       "version_major": 2,
       "version_minor": 0
      },
      "text/plain": [
       "Generating train split:   0%|          | 0/362809 [00:00<?, ? examples/s]"
      ]
     },
     "metadata": {},
     "output_type": "display_data"
    },
    {
     "data": {
      "application/vnd.jupyter.widget-view+json": {
       "model_id": "69131f90da1546e4b1951a168fbdba88",
       "version_major": 2,
       "version_minor": 0
      },
      "text/plain": [
       "en-ro/dev-00000-of-00001.parquet:   0%|          | 0.00/140k [00:00<?, ?B/s]"
      ]
     },
     "metadata": {},
     "output_type": "display_data"
    },
    {
     "data": {
      "application/vnd.jupyter.widget-view+json": {
       "model_id": "4b4411efd4364e50bcef8a2a153a49d4",
       "version_major": 2,
       "version_minor": 0
      },
      "text/plain": [
       "en-ro/train-00000-of-00001.parquet:   0%|          | 0.00/41.0M [00:00<?, ?B/s]"
      ]
     },
     "metadata": {},
     "output_type": "display_data"
    },
    {
     "data": {
      "application/vnd.jupyter.widget-view+json": {
       "model_id": "2b5f967362dd43c9aebca2f3dddef0d0",
       "version_major": 2,
       "version_minor": 0
      },
      "text/plain": [
       "Generating dev split:   0%|          | 0/992 [00:00<?, ? examples/s]"
      ]
     },
     "metadata": {},
     "output_type": "display_data"
    },
    {
     "data": {
      "application/vnd.jupyter.widget-view+json": {
       "model_id": "004f03272c8041558f30e255bbcaa8d1",
       "version_major": 2,
       "version_minor": 0
      },
      "text/plain": [
       "Generating train split:   0%|          | 0/319791 [00:00<?, ? examples/s]"
      ]
     },
     "metadata": {},
     "output_type": "display_data"
    }
   ],
   "source": [
    "\n",
    "from datasets import load_dataset\n",
    "\n",
    "talks_en = load_dataset(\"sentence-transformers/parallel-sentences-talks\", \"en-pt\", split=\"train[:1000]\")\n",
    "talks_es = load_dataset(\"sentence-transformers/parallel-sentences-talks\", \"en-es\", split=\"train[:1000]\")\n",
    "talks_fr = load_dataset(\"sentence-transformers/parallel-sentences-talks\", \"en-fr\", split=\"train[:1000]\")\n",
    "talks_pt= load_dataset(\"sentence-transformers/parallel-sentences-talks\", \"en-pt\", split=\"train[:1000]\")\n",
    "talks_it = load_dataset(\"sentence-transformers/parallel-sentences-talks\", \"en-it\", split=\"train[:1000]\")\n",
    "talks_ro = load_dataset(\"sentence-transformers/parallel-sentences-talks\", \"en-ro\", split=\"train[:1000]\")\n",
    "\n"
   ]
  },
  {
   "cell_type": "code",
   "execution_count": 521,
   "id": "cec4c445-36c6-44ae-bbb2-8f7d5119b248",
   "metadata": {},
   "outputs": [
    {
     "name": "stdout",
     "output_type": "stream",
     "text": [
      "['Y luego hay ciertas aspectos conceptuales que pueden beneficiarse del cálculo a mano pero creo que son relativamente pocos.', 'Algo que pregunto a menudo es sobre el griego antiguo y cómo se relaciona.']\n"
     ]
    }
   ],
   "source": [
    "print(talks_es['non_english'][:2])\n",
    "shuffled = dataset.shuffle(seed=42)\n",
    "small_subset = shuffled.select(range(1000))"
   ]
  },
  {
   "cell_type": "code",
   "execution_count": 542,
   "id": "2a6b8372-edae-4cc2-82c0-773c1d276de6",
   "metadata": {},
   "outputs": [
    {
     "name": "stdout",
     "output_type": "stream",
     "text": [
      "writing for lang:  en\n",
      "writing for lang:  es\n",
      "writing for lang:  fr\n",
      "writing for lang:  pt\n",
      "writing for lang:  it\n",
      "writing for lang:  ro\n"
     ]
    }
   ],
   "source": [
    "\n",
    "def write_parallel_to_file(dataset, lang):\n",
    "    print(\"writing for lang: \",lang)\n",
    "    if lang == 'en':\n",
    "        sentences = dataset['english']\n",
    "    else: \n",
    "        sentences= dataset['non_english']\n",
    "    filename = \"parallel_\"+lang\n",
    "    \n",
    "    with open(filename, \"w\", encoding=\"utf-8\") as f:\n",
    "        for sent in sentences:\n",
    "            f.write(sent+\"\\n\")\n",
    "\n",
    "write_parallel_to_file(talks_en, \"en\")\n",
    "write_parallel_to_file(talks_es, \"es\")\n",
    "write_parallel_to_file(talks_fr, \"fr\")\n",
    "write_parallel_to_file(talks_pt, \"pt\")\n",
    "write_parallel_to_file(talks_it, \"it\")\n",
    "write_parallel_to_file(talks_ro, \"ro\")"
   ]
  },
  {
   "cell_type": "code",
   "execution_count": 541,
   "id": "eb5ce574-2578-47e8-8fa9-6365902e1699",
   "metadata": {},
   "outputs": [
    {
     "name": "stdout",
     "output_type": "stream",
     "text": [
      "300\n"
     ]
    }
   ],
   "source": [
    "print(len(talks_en_shuf))"
   ]
  },
  {
   "cell_type": "code",
   "execution_count": 543,
   "id": "f7c5aa3e-a54a-41e1-bf9f-70be91bb76b1",
   "metadata": {},
   "outputs": [],
   "source": [
    "def load_parallel_sentences(lang, samp_size=300):\n",
    "    filename=\"parallel_\"+lang\n",
    "    with open(filename, \"r\", encoding='utf-8') as f:\n",
    "        lines = [line.strip() for line in f.readlines() if line.strip()]\n",
    "    return random.sample(lines, samp_size) if len(lines)>= samp_size else lines\n",
    "\n",
    "parallel_sent_en= load_parallel_sentences(\"en\")\n",
    "parallel_sent_es= load_parallel_sentences(\"es\")\n",
    "parallel_sent_fr= load_parallel_sentences(\"fr\")\n",
    "parallel_sent_pt= load_parallel_sentences(\"pt\")\n",
    "parallel_sent_it= load_parallel_sentences(\"it\")\n",
    "parallel_sent_ro= load_parallel_sentences(\"ro\")\n",
    "\n"
   ]
  },
  {
   "cell_type": "code",
   "execution_count": 544,
   "id": "539a8222-389b-4281-9417-0ad36e8458cb",
   "metadata": {},
   "outputs": [
    {
     "name": "stdout",
     "output_type": "stream",
     "text": [
      "300\n"
     ]
    }
   ],
   "source": [
    "print(len(parallel_sent_en))"
   ]
  },
  {
   "cell_type": "code",
   "execution_count": 539,
   "id": "d0c8c1b0-bde7-4fdb-8b87-127892d16b49",
   "metadata": {},
   "outputs": [
    {
     "name": "stdout",
     "output_type": "stream",
     "text": [
      "Retrieving for language  en\n",
      "Retrieving for language  es\n",
      "Retrieving for language  fr\n",
      "Retrieving for language  pt\n",
      "Retrieving for language  it\n",
      "Retrieving for language  ro\n"
     ]
    }
   ],
   "source": [
    "english_sentences = get_wikipedia_sentences('en', ['History', 'Computer Science', 'Earth'])\n",
    "spanish_sentences = get_wikipedia_sentences('es', ['Historia', 'Ciencia de la computación', 'Tierra'])\n",
    "french_sentences  = get_wikipedia_sentences('fr', ['Histoire', 'Informatique', 'Terre'])\n",
    "port_sentences = get_wikipedia_sentences('pt', ['História', 'Ciência da computação', 'Terra'])\n",
    "italian_sentences = get_wikipedia_sentences('it', ['Storia','Informatica','Terra'])\n",
    "romanian_sentences = get_wikipedia_sentences('ro', ['Istorie', 'Informatică', 'Pământ'])\n",
    "\n",
    "sentences = {\n",
    "    \"english\": english_sentences,\n",
    "    \"spanish\": spanish_sentences,\n",
    "    \"french\": french_sentences,\n",
    "    \"portuguese\": port_sentences,\n",
    "    \"italian\": italian_sentences,\n",
    "    \"romanian\": romanian_sentences\n",
    "}\n",
    "\n",
    "with open(\"wiki_sentences.json\", \"w\") as f:\n",
    "    json.dump(sentences, f)\n"
   ]
  },
  {
   "cell_type": "code",
   "execution_count": 546,
   "id": "9d78c168-5fb3-47f4-86fe-fbc9b7743c36",
   "metadata": {},
   "outputs": [],
   "source": [
    "english_sentences.extend(parallel_sent_en)\n",
    "spanish_sentences.extend(parallel_sent_es)\n",
    "french_sentences.extend(parallel_sent_fr)\n",
    "port_sentences.extend(parallel_sent_pt)\n",
    "italian_sentences.extend(parallel_sent_it)\n",
    "romanian_sentences.extend(parallel_sent_ro)"
   ]
  },
  {
   "cell_type": "code",
   "execution_count": 555,
   "id": "c76489ac-a1f8-4789-a4b8-ffca91f09a26",
   "metadata": {},
   "outputs": [],
   "source": [
    "unknown_sentences = [\n",
    "    # Czech\n",
    "    \"Pláž je teplá a slunečná.\",\n",
    "    \"Děti si hrají na hřišti.\",\n",
    "    \"Mám rád českou kuchyni.\",\n",
    "    # Slovak\n",
    "    \"Dnes je krásny deň na prechádzku.\",\n",
    "    \"Videl som pekný film včera večer.\",\n",
    "    \"Milujem slovenské hory.\",\n",
    "    # Polish\n",
    "    \"Wczoraj poszedłem do kina z moimi przyjaciółmi.\",\n",
    "    \"Lubię czytać polskie książki.\",\n",
    "    \"To jest bardzo ładne miasto.\",\n",
    "    # Finnish\n",
    "    \"Tänään sataa ja on kylmä.\",\n",
    "    \"Käyn usein kävelyllä metsässä.\",\n",
    "    \"Pidän suomalaisesta saunasta.\",\n",
    "    # Hungarian\n",
    "    \"A kutya a kertben futkározik.\",\n",
    "    \"Szeretek magyar ételeket enni.\",\n",
    "    \"Ez egy szép város.\",\n",
    "    # Vietnamese\n",
    "    \"Tôi đang học tiếng Việt mỗi ngày.\",\n",
    "    \"Hôm nay trời đẹp và nắng.\",\n",
    "    \"Tôi thích ăn phở vào buổi sáng.\",\n",
    "    # Maltese\n",
    "    \"Il-bieraħ kien ġurnata sabiħa ħafna.\",\n",
    "    \"Inħobb il-kċina Mediterranja.\",\n",
    "    \"Il-belt tiegħi tinsab fuq il-baħar.\",\n",
    "    # Latin\n",
    "    \"Gallia est omnis divisa in partes tres.\",\n",
    "    \"Veni, vidi, vici.\",\n",
    "    \"Alea iacta est.\",\n",
    "    # Albanian\n",
    "    \"Ai është duke lexuar një libër interesant.\",\n",
    "    \"Ne shkojmë në park çdo mëngjes.\",\n",
    "    \"Kjo është një ditë e bukur.\",\n",
    "    # Esperanto\n",
    "    \"La hundo kuris tra la ĝardeno.\",\n",
    "    \"Mi amas legi librojn en la parko.\",\n",
    "    \"Hodiaŭ estas bela tago.\",\n",
    "    # Basque\n",
    "    \"Gaur eguraldi ona egingo du.\",\n",
    "    \"Haurrak jolasten ari dira kaletan.\",\n",
    "    \"Nire etxea herrian dago.\",\n",
    "    # Haitian Creole\n",
    "    \"Mwen kontan al lekòl chak jou.\",\n",
    "    \"Li renmen manje diri ak pwa.\",\n",
    "    \"Nou pral nan mache a demen.\",\n",
    "    # Additional Sentences\n",
    "    # Galician\n",
    "    \"O día está soleado e quente.\",\n",
    "    \"Gústame ler libros de historia.\",\n",
    "    \"Os nenos xogan no parque.\",\n",
    "    # Norwegian (Bokmål)\n",
    "    \"Barna leker i hagen.\",\n",
    "    \"Jeg liker å lese bøker.\",\n",
    "    \"I dag er været fint.\",\n",
    "    # Danish\n",
    "    \"Børnene leger udenfor.\",\n",
    "    \"Jeg elsker dansk mad.\",\n",
    "    \"Det er en smuk dag i dag.\",\n",
    "    # Swedish\n",
    "    \"Jag tycker om att läsa böcker.\",\n",
    "    \"Barnen spelar fotboll i parken.\",\n",
    "    \"Vädret är soligt idag.\",\n",
    "]\n",
    "unknown_labels = [6] * len(unknown_sentences)\n"
   ]
  },
  {
   "cell_type": "code",
   "execution_count": 558,
   "id": "9ee55d7f-3370-4974-acb9-62f835bd15d1",
   "metadata": {},
   "outputs": [
    {
     "name": "stdout",
     "output_type": "stream",
     "text": [
      "new best val acc\n",
      "Epoch: 0 - Train Loss: 0.7546291285422113 Acc: 0.7777777777777778 --- Val loss 0.22133007645606995 Acc: 0.9583333333333334\n",
      "new best val acc\n",
      "Epoch: 2 - Train Loss: 0.17289427841289176 Acc: 0.9633333333333334 --- Val loss 0.16896573434739062 Acc: 0.96484375\n",
      "Epoch: 4 - Train Loss: 0.1659661353089743 Acc: 0.9644444444444444 --- Val loss 0.17023605899885297 Acc: 0.9596354166666666\n",
      "Epoch: 6 - Train Loss: 0.1570839797374275 Acc: 0.9638888888888889 --- Val loss 0.1751714009248341 Acc: 0.9479166666666666\n",
      "Epoch: 8 - Train Loss: 0.14558772230727804 Acc: 0.9655555555555555 --- Val loss 0.15646732332728183 Acc: 0.9583333333333334\n",
      "Epoch: 10 - Train Loss: 0.1340230698386828 Acc: 0.9677777777777777 --- Val loss 0.1728768057267492 Acc: 0.9505208333333334\n",
      "Epoch: 12 - Train Loss: 0.13116166258437767 Acc: 0.9713888888888889 --- Val loss 0.15183036518283188 Acc: 0.96484375\n",
      "stopping early\n",
      "Test Accuracy: 96.59%\n",
      "Final Accuracy: 96.59%\n"
     ]
    }
   ],
   "source": [
    "import os\n",
    "if os.path.exists('best_model.pth'):\n",
    "    os.remove('best_model.pth')\n",
    "    \n",
    "inputs = []\n",
    "targets = []\n",
    "\n",
    "def split_sentences_each_lang(sents, label):\n",
    "    n = len(sents)\n",
    "    indices = list(range(n))\n",
    "    random.shuffle(indices)\n",
    "    train_idx = int(.7*n)\n",
    "    val_idx = int(.85*n)\n",
    "    \n",
    "    \n",
    "    \n",
    "    train_indices = indices[:train_idx]\n",
    "    val_indices = indices[train_idx:val_idx]\n",
    "    test_indices = indices[val_idx:]\n",
    "    return (\n",
    "        [sents[i] for i in train_indices],\n",
    "        [label] * len(train_indices),\n",
    "        [sents[i] for i in val_indices],\n",
    "        [label] * len(val_indices),\n",
    "        [sents[i] for i in test_indices],\n",
    "        [label] * len(test_indices))\n",
    "\n",
    "train_sents = []\n",
    "train_labels = []\n",
    "val_sents = []\n",
    "val_labels = []\n",
    "test_sents = []\n",
    "test_labels = []\n",
    "train_sents.extend(unknown_sentences)\n",
    "train_labels.extend(unknown_labels)\n",
    "\n",
    "\n",
    "\n",
    "\n",
    "for sents, label in zip([english_sentences, spanish_sentences, french_sentences, port_sentences, italian_sentences, romanian_sentences], [0,1,2,3,4,5]):\n",
    "    tr_s, tr_l, vl_s, vl_l, ts_s, ts_l = split_sentences_each_lang(sents,label)\n",
    "    train_sents.extend(tr_s)\n",
    "    train_labels.extend(tr_l)\n",
    "    val_sents.extend(vl_s)\n",
    "    val_labels.extend(vl_l)\n",
    "    test_sents.extend(ts_s)\n",
    "    test_labels.extend(ts_l)\n",
    "\n",
    "vocab = create_ngram_vocab(train_sents + val_sents+test_sents)\n",
    "vocab_dict = {ng: i for i, ng in enumerate(vocab)}\n",
    "with open(\"vocab.json\", \"w\", encoding=\"utf-8\") as f:\n",
    "    json.dump(vocab_dict, f, ensure_ascii=False, indent=2)\n",
    "model = LanguageClassifier(len(vocab))\n",
    "\n",
    "train_features = [word_to_ngram_features(s, vocab_dict) for s in train_sents]\n",
    "val_features = [word_to_ngram_features(s, vocab_dict) for s in val_sents]          \n",
    "test_features = [word_to_ngram_features(s, vocab_dict) for s in test_sents]\n",
    "\n",
    "\n",
    "\n",
    "train_tensor = torch.tensor(train_features, dtype=torch.float32)\n",
    "train_targets = torch.tensor(train_labels, dtype=torch.long)\n",
    "\n",
    "val_tensor = torch.tensor(val_features, dtype=torch.float32)\n",
    "val_targets = torch.tensor(val_labels, dtype=torch.long)\n",
    "\n",
    "test_tensor = torch.tensor(test_features, dtype=torch.float32)\n",
    "test_targets = torch.tensor(test_labels, dtype=torch.long)\n",
    "\n",
    "batch_size=16\n",
    "train_dataset = TensorDataset(train_tensor, train_targets)\n",
    "train_loader = DataLoader(train_dataset, batch_size=batch_size, shuffle=True)\n",
    "val_dataset = TensorDataset(val_tensor, val_targets)\n",
    "val_loader = DataLoader(val_dataset, batch_size=batch_size, shuffle=False)\n",
    "\n",
    "\n",
    "best_val_acc = 0.0\n",
    "patience = 10\n",
    "patience_counter =0\n",
    "\n",
    "loss_fn = nn.CrossEntropyLoss()\n",
    "optimizer = optim.Adam(model.parameters(), lr=.001, weight_decay=.01)\n",
    "\n",
    "def calculate_accuracy(predictions, targets):\n",
    "    _, predicted = torch.max(predictions,1)\n",
    "    correct = (predicted == targets).sum().item()\n",
    "    return correct/len(targets)\n",
    "\n",
    "num_epochs = 100\n",
    "\n",
    "for epoch in range(num_epochs):\n",
    "\n",
    "    model.train()\n",
    "\n",
    "    train_loss = 0.0\n",
    "    train_acc = 0.0\n",
    "\n",
    "    for batch_inputs, batch_targets in train_loader:\n",
    "        #forward pass\n",
    "        pred = model(batch_inputs)\n",
    "        loss = loss_fn(pred, batch_targets)\n",
    "\n",
    "        #backward pass\n",
    "        optimizer.zero_grad()\n",
    "        loss.backward()\n",
    "        optimizer.step()\n",
    "\n",
    "        train_loss += loss.item()\n",
    "        train_acc += calculate_accuracy(pred, batch_targets)\n",
    "    train_loss/= len(train_loader)\n",
    "    train_acc/= len(train_loader)\n",
    "    \n",
    "\n",
    "    model.eval()\n",
    "\n",
    "    val_loss = 0.0\n",
    "    val_acc = 0.0\n",
    "    \n",
    "    with torch.no_grad():\n",
    "        for batch_inputs, batch_targets in val_loader:\n",
    "            val_pred = model(batch_inputs)\n",
    "            v_loss = loss_fn(val_pred, batch_targets)\n",
    "\n",
    "            val_loss+=v_loss.item()\n",
    "            val_acc += calculate_accuracy(val_pred, batch_targets)\n",
    "    val_loss/=len(val_loader)\n",
    "    val_acc/=len(val_loader)\n",
    "\n",
    "    if val_acc> best_val_acc:\n",
    "        print(\"new best val acc\")\n",
    "        best_val_acc = val_acc\n",
    "        patience_counter = 0\n",
    "        torch.save(model.state_dict(), 'best_model.pth')\n",
    "    else:\n",
    "        patience_counter+=1\n",
    "\n",
    "    if epoch%2 == 0:\n",
    "        print(f\"Epoch: {epoch} - Train Loss: {train_loss} Acc: {train_acc} --- Val loss {val_loss} Acc: {val_acc}\")\n",
    "\n",
    "    if patience_counter>=patience:\n",
    "        print(\"stopping early\")\n",
    "        break\n",
    "\n",
    "model.load_state_dict(torch.load('best_model.pth'))\n",
    "\n",
    "total_acc = 0\n",
    "num_loops = 1\n",
    "for i in range(num_loops):\n",
    "    model.eval()\n",
    "    with torch.no_grad():\n",
    "        pred = model(test_tensor)\n",
    "        acc = calculate_accuracy(pred, test_targets)\n",
    "        print(f\"Test Accuracy: {acc*100:.2f}%\")\n",
    "    total_acc+=acc\n",
    "print(f\"Final Accuracy: {100*total_acc/num_loops:.2f}%\")\n",
    "    \n",
    "        \n",
    "    "
   ]
  },
  {
   "cell_type": "code",
   "execution_count": 350,
   "id": "35919fd1-18a8-4944-a732-c4a2edf0e256",
   "metadata": {},
   "outputs": [
    {
     "name": "stdout",
     "output_type": "stream",
     "text": [
      "0\n"
     ]
    }
   ],
   "source": [
    "test_word = \"it is awful\"\n",
    "features = word_to_ngram_features(test_word, vocab_dict)  # use vocab_dict here\n",
    "input_tensor = torch.tensor([features], dtype=torch.float32)  # shape: [1, vocab_size]\n",
    "pred = model(input_tensor)\n",
    "lang = torch.argmax(pred).item()\n",
    "print(lang)\n"
   ]
  },
  {
   "cell_type": "code",
   "execution_count": 559,
   "id": "bc5d85da-dd98-449e-8a8d-cc67732183a8",
   "metadata": {},
   "outputs": [
    {
     "name": "stdout",
     "output_type": "stream",
     "text": [
      "'The moon is made of rock.' -> English Confidence: 0.84\n",
      "'La computadora es muy rápida.' -> Spanish Confidence: 0.66\n",
      "'Les enfants jouent dans le jardin.' -> French Confidence: 0.96\n",
      "'As crianças estão brincando no jardim' -> Portuguese Confidence: 0.80\n",
      "'I bambini stanno giocando in giardino.' -> Italian Confidence: 0.77\n",
      "'Copiii se joacă în grădină.' -> Romanian Confidence: 0.69\n",
      "'A laila, aia ke kilokilo o nā hōkū.' -> Unknown Language Confidence: 0.19\n",
      "'pláž je teplá' -> Unknown Language Confidence: 0.17\n"
     ]
    }
   ],
   "source": [
    "def predict_lang(sentence, threshold=0.35):\n",
    "    model.eval()\n",
    "    features = word_to_ngram_features(sentence, vocab_dict)\n",
    "    tensor = torch.tensor([features], dtype=torch.float32)\n",
    "\n",
    "    with torch.no_grad():\n",
    "        pred = model(tensor)\n",
    "        probs = torch.softmax(pred, dim=1)\n",
    "        max_prob, lang = torch.max(probs, dim=1)\n",
    "\n",
    "        if max_prob.item()<threshold:\n",
    "            return 6, max_prob.item()\n",
    "        else:\n",
    "            return lang.item(), max_prob.item()\n",
    "\n",
    "label_to_language = {\n",
    "    0: \"English\",\n",
    "    1: \"Spanish\",\n",
    "    2: \"French\",\n",
    "    3: \"Portuguese\",\n",
    "    4: \"Italian\",\n",
    "    5: \"Romanian\",\n",
    "    6: \"Unknown Language\"\n",
    "}\n",
    "\n",
    "test_sentences = [\n",
    "    \"The moon is made of rock.\",\n",
    "    \"La computadora es muy rápida.\",\n",
    "    \"Les enfants jouent dans le jardin.\",\n",
    "    \"As crianças estão brincando no jardim\",\n",
    "    \"I bambini stanno giocando in giardino.\",\n",
    "    \"Copiii se joacă în grădină.\",\n",
    "    \"A laila, aia ke kilokilo o nā hōkū.\",\n",
    "    \"pláž je teplá\"\n",
    "    \n",
    "    \n",
    "]\n",
    "for sent in test_sentences:\n",
    "    label, conf = predict_lang(sent)\n",
    "    print(f\"'{sent}' -> {label_to_language[label]} Confidence: {conf:.2f}\")\n"
   ]
  },
  {
   "cell_type": "code",
   "execution_count": 561,
   "id": "5801059a-5694-421c-b695-18c42ad6055f",
   "metadata": {},
   "outputs": [
    {
     "data": {
      "image/png": "[encoded data removed]",
      "text/plain": [
       "<Figure size 640x480 with 2 Axes>"
      ]
     },
     "metadata": {},
     "output_type": "display_data"
    }
   ],
   "source": [
    "from sklearn.metrics import confusion_matrix, ConfusionMatrixDisplay\n",
    "\n",
    "model.eval()\n",
    "with torch.no_grad():\n",
    "    preds = model(test_tensor)\n",
    "    _, predicted = torch.max(preds, 1)\n",
    "    cm = confusion_matrix(test_targets.numpy(), predicted.numpy(), labels=range(7))\n",
    "    ConfusionMatrixDisplay(cm, display_labels=list(label_to_language.values())).plot()"
   ]
  },
  {
   "cell_type": "code",
   "execution_count": null,
   "id": "02dd1d86-52e5-4413-871d-cffbb05b2a25",
   "metadata": {},
   "outputs": [],
   "source": []
  }
 ],
 "metadata": {
  "kernelspec": {
   "display_name": "Python (ml-ai-env)",
   "language": "python",
   "name": "ml-ai-env"
  },
  "language_info": {
   "codemirror_mode": {
    "name": "ipython",
    "version": 3
   },
   "file_extension": ".py",
   "mimetype": "text/x-python",
   "name": "python",
   "nbconvert_exporter": "python",
   "pygments_lexer": "ipython3",
   "version": "3.12.4"
  }
 },
 "nbformat": 4,
 "nbformat_minor": 5
}
